{
 "cells": [
  {
   "cell_type": "code",
   "execution_count": 1,
   "metadata": {},
   "outputs": [],
   "source": [
    "import numpy as np\n",
    "from lib.pywordle import *\n",
    "import glob\n",
    "import os"
   ]
  },
  {
   "cell_type": "code",
   "execution_count": 2,
   "metadata": {},
   "outputs": [],
   "source": [
    "with open('words.txt') as f:\n",
    "    words = f.read().splitlines()\n",
    "    f.close()"
   ]
  },
  {
   "cell_type": "code",
   "execution_count": 3,
   "metadata": {},
   "outputs": [],
   "source": [
    "wordle = WordleSolver()"
   ]
  },
  {
   "cell_type": "code",
   "execution_count": 4,
   "metadata": {},
   "outputs": [],
   "source": [
    "data = np.array(wordle.generateCrossTable())"
   ]
  },
  {
   "cell_type": "code",
   "execution_count": 5,
   "metadata": {},
   "outputs": [
    {
     "name": "stdout",
     "output_type": "stream",
     "text": [
      "(2315, 2315)\n",
      "target =  aback\n",
      "guess =  fuzzy\n"
     ]
    }
   ],
   "source": [
    "print(np.shape(data))\n",
    "#row of data is target\n",
    "target = np.argmax(data) // np.shape(data)[0]\n",
    "guess = np.argmax(data) % np.shape(data)[1]\n",
    "data[target,guess]\n",
    "print(\"target = \", words[target])\n",
    "print(\"guess = \", words[guess])"
   ]
  },
  {
   "cell_type": "code",
   "execution_count": 6,
   "metadata": {},
   "outputs": [],
   "source": [
    "data_transposed = np.transpose(data)\n",
    "sums = np.sum(data_transposed, axis=1) / np.shape(data)[0]"
   ]
  },
  {
   "cell_type": "code",
   "execution_count": 7,
   "metadata": {},
   "outputs": [
    {
     "name": "stdout",
     "output_type": "stream",
     "text": [
      "142.24838012958963\n",
      "216.79299021780201\n"
     ]
    }
   ],
   "source": [
    "print(sums[words.index(\"asset\")])\n",
    "print(np.sum(sums) / 2315)"
   ]
  },
  {
   "cell_type": "code",
   "execution_count": 8,
   "metadata": {},
   "outputs": [
    {
     "name": "stdout",
     "output_type": "stream",
     "text": [
      "1534\n",
      "raise\n",
      "2315\n"
     ]
    }
   ],
   "source": [
    "best_word = np.argmin(sums)\n",
    "print(best_word)\n",
    "print(words[best_word])\n",
    "print(len(words))"
   ]
  },
  {
   "cell_type": "code",
   "execution_count": 9,
   "metadata": {},
   "outputs": [],
   "source": [
    "results = {}\n",
    "for i in range(len(words)):\n",
    "    results[words[i]] = sums[i]"
   ]
  },
  {
   "cell_type": "code",
   "execution_count": 10,
   "metadata": {},
   "outputs": [
    {
     "name": "stdout",
     "output_type": "stream",
     "text": [
      "[('raise', 61.00086393088553), ('arise', 63.72570194384449), ('irate', 63.7792656587473), ('arose', 66.02116630669546), ('alter', 69.99179265658748), ('saner', 70.12570194384449), ('later', 70.22332613390928), ('snare', 71.09762419006479), ('stare', 71.29460043196545), ('slate', 71.57278617710583)]\n"
     ]
    }
   ],
   "source": [
    "result_list = sorted(results.items(), key=lambda x:x[1])\n",
    "print(result_list[0:10])"
   ]
  },
  {
   "cell_type": "code",
   "execution_count": 11,
   "metadata": {},
   "outputs": [
    {
     "name": "stdout",
     "output_type": "stream",
     "text": [
      "[('puppy', 777.8051835853132), ('mamma', 778.2846652267818), ('vivid', 815.3818574514039), ('mummy', 820.5377969762419), ('fuzzy', 855.680777537797)]\n"
     ]
    }
   ],
   "source": [
    "print(result_list[-5:])"
   ]
  }
 ],
 "metadata": {
  "interpreter": {
   "hash": "e7370f93d1d0cde622a1f8e1c04877d8463912d04d973331ad4851f04de6915a"
  },
  "kernelspec": {
   "display_name": "Python 3.10.1 64-bit",
   "language": "python",
   "name": "python3"
  },
  "language_info": {
   "codemirror_mode": {
    "name": "ipython",
    "version": 3
   },
   "file_extension": ".py",
   "mimetype": "text/x-python",
   "name": "python",
   "nbconvert_exporter": "python",
   "pygments_lexer": "ipython3",
   "version": "3.10.1"
  },
  "orig_nbformat": 4
 },
 "nbformat": 4,
 "nbformat_minor": 2
}
