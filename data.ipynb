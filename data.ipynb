{
 "cells": [
  {
   "cell_type": "code",
   "execution_count": 1,
   "metadata": {},
   "outputs": [],
   "source": [
    "import numpy as np\n",
    "import glob\n",
    "import os"
   ]
  },
  {
   "cell_type": "code",
   "execution_count": 5,
   "metadata": {},
   "outputs": [],
   "source": [
    "with open('words.txt') as f:\n",
    "    words = f.read().splitlines()\n",
    "    f.close()"
   ]
  },
  {
   "cell_type": "code",
   "execution_count": 12,
   "metadata": {},
   "outputs": [],
   "source": [
    "files = os.listdir(\"data/\")\n",
    "data = np.genfromtxt(\"data/\" + files[0], delimiter=',', dtype=int)\n",
    "for i in range(1, len(files)):\n",
    "    data = np.concatenate((data, np.genfromtxt(\"data/\" + files[i], delimiter=',', dtype=int)))\n",
    "#remove last column...\n",
    "data = data[:, :-1]"
   ]
  },
  {
   "cell_type": "code",
   "execution_count": 13,
   "metadata": {},
   "outputs": [
    {
     "name": "stdout",
     "output_type": "stream",
     "text": [
      "(2315, 2315)\n"
     ]
    }
   ],
   "source": [
    "print(np.shape(data))"
   ]
  },
  {
   "cell_type": "code",
   "execution_count": 14,
   "metadata": {},
   "outputs": [],
   "source": [
    "data_transposed = np.transpose(data)\n",
    "sums = np.sum(data_transposed, axis=1) / np.shape(data)[0]"
   ]
  },
  {
   "cell_type": "code",
   "execution_count": 17,
   "metadata": {},
   "outputs": [
    {
     "name": "stdout",
     "output_type": "stream",
     "text": [
      "146.16069114470844\n"
     ]
    }
   ],
   "source": [
    "print(sums[words.index(\"asset\")])"
   ]
  },
  {
   "cell_type": "code",
   "execution_count": 18,
   "metadata": {},
   "outputs": [
    {
     "name": "stdout",
     "output_type": "stream",
     "text": [
      "1534\n",
      "raise\n",
      "2315\n"
     ]
    }
   ],
   "source": [
    "best_word = np.argmin(sums)\n",
    "print(best_word)\n",
    "print(words[best_word])\n",
    "print(len(words))"
   ]
  },
  {
   "cell_type": "code",
   "execution_count": 19,
   "metadata": {},
   "outputs": [],
   "source": [
    "results = {}\n",
    "for i in range(len(words)):\n",
    "    results[words[i]] = sums[i]"
   ]
  },
  {
   "cell_type": "code",
   "execution_count": 20,
   "metadata": {},
   "outputs": [
    {
     "name": "stdout",
     "output_type": "stream",
     "text": [
      "[('raise', 61.00086393088553), ('arise', 63.72570194384449), ('irate', 63.7792656587473), ('arose', 66.02116630669546), ('alter', 69.99179265658748), ('saner', 70.12570194384449), ('later', 70.22332613390928), ('snare', 71.09762419006479), ('stare', 71.29460043196545), ('slate', 71.57278617710583)]\n"
     ]
    }
   ],
   "source": [
    "result_list = sorted(results.items(), key=lambda x:x[1])\n",
    "print(result_list[0:10])"
   ]
  },
  {
   "cell_type": "code",
   "execution_count": 15,
   "metadata": {},
   "outputs": [
    {
     "name": "stdout",
     "output_type": "stream",
     "text": [
      "297.7118290776446\n"
     ]
    }
   ],
   "source": [
    "print(results[\"adieu\"])"
   ]
  },
  {
   "cell_type": "code",
   "execution_count": 21,
   "metadata": {},
   "outputs": [
    {
     "name": "stdout",
     "output_type": "stream",
     "text": [
      "[('puppy', 780.183585313175), ('mamma', 801.592656587473), ('mummy', 822.6950323974082), ('vivid', 828.7382289416846), ('fuzzy', 855.7179265658747)]\n"
     ]
    }
   ],
   "source": [
    "print(result_list[-5:])"
   ]
  }
 ],
 "metadata": {
  "interpreter": {
   "hash": "e7370f93d1d0cde622a1f8e1c04877d8463912d04d973331ad4851f04de6915a"
  },
  "kernelspec": {
   "display_name": "Python 3.10.1 64-bit",
   "language": "python",
   "name": "python3"
  },
  "language_info": {
   "codemirror_mode": {
    "name": "ipython",
    "version": 3
   },
   "file_extension": ".py",
   "mimetype": "text/x-python",
   "name": "python",
   "nbconvert_exporter": "python",
   "pygments_lexer": "ipython3",
   "version": "3.10.1"
  },
  "orig_nbformat": 4
 },
 "nbformat": 4,
 "nbformat_minor": 2
}
