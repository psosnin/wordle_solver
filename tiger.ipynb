{
 "cells": [
  {
   "cell_type": "code",
   "execution_count": 1,
   "metadata": {},
   "outputs": [],
   "source": [
    "from lib.pywordle import *\n",
    "import numpy as np"
   ]
  },
  {
   "cell_type": "code",
   "execution_count": 2,
   "metadata": {},
   "outputs": [],
   "source": [
    "with open('words.txt') as f:\n",
    "    words = f.read().splitlines()\n",
    "    f.close()"
   ]
  },
  {
   "cell_type": "code",
   "execution_count": 3,
   "metadata": {},
   "outputs": [],
   "source": [
    "wordle = WordleSolver()"
   ]
  },
  {
   "cell_type": "code",
   "execution_count": 4,
   "metadata": {},
   "outputs": [
    {
     "name": "stdout",
     "output_type": "stream",
     "text": [
      "1328\n"
     ]
    }
   ],
   "source": [
    "wordle.reset()\n",
    "wordle.setTarget(\"acute\")\n",
    "print(wordle.makeGuess(\"vivid\"))"
   ]
  },
  {
   "cell_type": "code",
   "execution_count": 6,
   "metadata": {},
   "outputs": [
    {
     "name": "stdout",
     "output_type": "stream",
     "text": [
      "1352\n"
     ]
    }
   ],
   "source": [
    "wordle.reset()\n",
    "wordle.setTarget(\"aback\")\n",
    "print(wordle.makeGuess(\"fuzzy\"))"
   ]
  },
  {
   "cell_type": "code",
   "execution_count": 7,
   "metadata": {},
   "outputs": [],
   "source": [
    "def compute_table():\n",
    "    wordle = WordleSolver()\n",
    "    results = np.zeros((len(words),len(words)), dtype=int)\n",
    "    #results[target, guess]\n",
    "    #i = index of target\n",
    "    for i in range(len(words)):\n",
    "        wordle.setTarget(words[i])\n",
    "        #j = index of target\n",
    "        for j in range(len(words)):\n",
    "            if results[i][j] == 0:\n",
    "                wordle.reset()\n",
    "                results[i][j] = wordle.makeGuess(words[j])\n",
    "                for k in wordle.remainingWordList():\n",
    "                    results[k][j] = wordle.remainingWords()\n",
    "    return results"
   ]
  },
  {
   "cell_type": "code",
   "execution_count": 7,
   "metadata": {},
   "outputs": [],
   "source": [
    "data = compute_table()"
   ]
  },
  {
   "cell_type": "code",
   "execution_count": 8,
   "metadata": {},
   "outputs": [
    {
     "ename": "NameError",
     "evalue": "name 'data' is not defined",
     "output_type": "error",
     "traceback": [
      "\u001b[0;31m---------------------------------------------------------------------------\u001b[0m",
      "\u001b[0;31mNameError\u001b[0m                                 Traceback (most recent call last)",
      "Input \u001b[0;32mIn [8]\u001b[0m, in \u001b[0;36m<module>\u001b[0;34m\u001b[0m\n\u001b[0;32m----> 1\u001b[0m \u001b[38;5;28mprint\u001b[39m(np\u001b[38;5;241m.\u001b[39mshape(\u001b[43mdata\u001b[49m))\n\u001b[1;32m      2\u001b[0m \u001b[38;5;66;03m#row of data is target\u001b[39;00m\n\u001b[1;32m      3\u001b[0m target \u001b[38;5;241m=\u001b[39m np\u001b[38;5;241m.\u001b[39margmax(data) \u001b[38;5;241m/\u001b[39m\u001b[38;5;241m/\u001b[39m np\u001b[38;5;241m.\u001b[39mshape(data)[\u001b[38;5;241m0\u001b[39m]\n",
      "\u001b[0;31mNameError\u001b[0m: name 'data' is not defined"
     ]
    }
   ],
   "source": [
    "print(np.shape(data))\n",
    "#row of data is target\n",
    "target = np.argmax(data) // np.shape(data)[0]\n",
    "guess = np.argmax(data) % np.shape(data)[1]\n",
    "data[target,guess]\n",
    "print(\"target = \", words[target])\n",
    "print(\"guess = \", words[guess])"
   ]
  },
  {
   "cell_type": "code",
   "execution_count": 3,
   "metadata": {},
   "outputs": [],
   "source": [
    "def compute_next_guess(target, guesses):\n",
    "    wordle = WordleSolver()\n",
    "    wordle.setTarget(target)\n",
    "    for guess in guesses:\n",
    "        wordle.makeGuess(guess)\n",
    "    valids = np.array(wordle.remainingWordList())\n",
    "    results = np.zeros(len(words))\n",
    "    for i in valids:\n",
    "        wordle.reset()\n",
    "        for guess in guesses:\n",
    "            wordle.makeGuess(guess)\n",
    "        results[i] = wordle.makeGuess(words[i])\n",
    "    return results\n",
    "   "
   ]
  },
  {
   "cell_type": "code",
   "execution_count": null,
   "metadata": {},
   "outputs": [],
   "source": [
    "wordle = WordleSolver()\n",
    "wordle.setTarget(\"aback\")\n",
    "print(wordle.makeGuess(\"fuzzy\"))\n",
    "print(wordle.makeGuess(\"\"))"
   ]
  },
  {
   "cell_type": "code",
   "execution_count": 4,
   "metadata": {},
   "outputs": [
    {
     "name": "stdout",
     "output_type": "stream",
     "text": [
      "['fuzzy', 'vivid', 'mamma', 'groan', 'swash', 'exact', 'aback', 'aback']\n",
      "['fuzzy', 'vivid', 'known', 'mamma', 'cheap', 'exalt', 'state', 'aback', 'aback']\n",
      "['fuzzy', 'civic', 'mamma', 'swash', 'treat', 'annex', 'apple', 'abode', 'adobe', 'adobe']\n",
      "['vivid', 'fluff', 'known', 'mamma', 'jazzy', 'cagey', 'sassy', 'happy', 'tatty', 'batty', 'batty']\n",
      "['vivid', 'fluff', 'cocoa', 'annex', 'jazzy', 'mammy', 'sassy', 'happy', 'ratty', 'baggy', 'gawky', 'gawky']\n"
     ]
    }
   ],
   "source": [
    "max_len = 0\n",
    "best_target = \"\"\n",
    "for target in words:\n",
    "    guesses = []\n",
    "    while len(guesses) < 2 or guesses[-1] != guesses[-2]:\n",
    "        nxt = compute_next_guess(target, guesses)\n",
    "        guesses.append(words[np.argmax(nxt)])\n",
    "    if (len(guesses) > max_len):\n",
    "        print(guesses)\n",
    "        best_target = target\n",
    "        max_len = len(guesses)\n",
    "    "
   ]
  },
  {
   "cell_type": "code",
   "execution_count": null,
   "metadata": {},
   "outputs": [],
   "source": [
    "wordle = WordleSolver()\n",
    "wordle.setTarget(\"light\")\n",
    "print(wordle.makeGuess(\"fuzzy\"))\n",
    "print(wordle.makeGuess(\"mamma\"))\n",
    "print(wordle.makeGuess(\"known\"))\n",
    "print(wordle.makeGuess(\"civic\"))\n",
    "print(wordle.makeGuess(\"pixie\"))\n",
    "wordle.sampleWords(8)"
   ]
  },
  {
   "cell_type": "code",
   "execution_count": 6,
   "metadata": {},
   "outputs": [
    {
     "name": "stdout",
     "output_type": "stream",
     "text": [
      "139\n",
      "109\n"
     ]
    }
   ],
   "source": [
    "wordle = WordleSolver()\n",
    "wordle.setTarget(\"light\")\n",
    "print(wordle.makeGuess(\"civic\"))\n",
    "print(wordle.makeGuess(\"vivid\"))"
   ]
  },
  {
   "cell_type": "code",
   "execution_count": 3,
   "metadata": {},
   "outputs": [],
   "source": []
  },
  {
   "cell_type": "code",
   "execution_count": 5,
   "metadata": {},
   "outputs": [
    {
     "name": "stdout",
     "output_type": "stream",
     "text": [
      "0\n"
     ]
    }
   ],
   "source": [
    "wordle = WordleSolver()\n",
    "wordle.setTarget(\"light\")\n",
    "print(wordle.makeGuess(\"civic\"))"
   ]
  },
  {
   "cell_type": "code",
   "execution_count": 7,
   "metadata": {},
   "outputs": [
    {
     "name": "stdout",
     "output_type": "stream",
     "text": [
      "139\n"
     ]
    }
   ],
   "source": [
    "print(len([word for word in words if word[1] == 'i' and not word.__contains__('c')\n",
    "        and not word.__contains__('v') and word[0] != 'i' and word[2] != 'i'\n",
    "        and word[3] != 'i' and word[4] != 'i']))"
   ]
  }
 ],
 "metadata": {
  "interpreter": {
   "hash": "e7370f93d1d0cde622a1f8e1c04877d8463912d04d973331ad4851f04de6915a"
  },
  "kernelspec": {
   "display_name": "Python 3.10.1 64-bit",
   "language": "python",
   "name": "python3"
  },
  "language_info": {
   "codemirror_mode": {
    "name": "ipython",
    "version": 3
   },
   "file_extension": ".py",
   "mimetype": "text/x-python",
   "name": "python",
   "nbconvert_exporter": "python",
   "pygments_lexer": "ipython3",
   "version": "3.10.1"
  },
  "orig_nbformat": 4
 },
 "nbformat": 4,
 "nbformat_minor": 2
}
