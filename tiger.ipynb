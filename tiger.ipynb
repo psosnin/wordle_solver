{
 "cells": [
  {
   "cell_type": "code",
   "execution_count": 1,
   "metadata": {},
   "outputs": [],
   "source": [
    "from lib.pywordle import *\n",
    "import numpy as np\n",
    "from tqdm.notebook import tqdm, trange\n",
    "import time    # to be used in loop iterations"
   ]
  },
  {
   "cell_type": "code",
   "execution_count": 1,
   "metadata": {},
   "outputs": [],
   "source": [
    "with open('words.txt') as f:\n",
    "    words = f.read().splitlines()\n",
    "    f.close()"
   ]
  },
  {
   "cell_type": "code",
   "execution_count": 3,
   "metadata": {},
   "outputs": [],
   "source": [
    "with open('words.txt', 'w') as f:\n",
    "    for word in words:\n",
    "        f.write(word.lower() + \"\\n\")\n",
    "    f.close()"
   ]
  },
  {
   "cell_type": "code",
   "execution_count": 2,
   "metadata": {},
   "outputs": [
    {
     "name": "stdout",
     "output_type": "stream",
     "text": [
      "2315\n"
     ]
    }
   ],
   "source": [
    "print(len(words))"
   ]
  },
  {
   "cell_type": "code",
   "execution_count": 5,
   "metadata": {},
   "outputs": [],
   "source": [
    "wordle = WordleSolver()"
   ]
  },
  {
   "cell_type": "code",
   "execution_count": 6,
   "metadata": {},
   "outputs": [
    {
     "name": "stdout",
     "output_type": "stream",
     "text": [
      "1328\n"
     ]
    }
   ],
   "source": [
    "wordle.reset()\n",
    "wordle.setTarget(words.index(\"acute\"))\n",
    "print(wordle.makeGuess(words.index(\"vivid\")))"
   ]
  },
  {
   "cell_type": "code",
   "execution_count": 7,
   "metadata": {},
   "outputs": [
    {
     "name": "stdout",
     "output_type": "stream",
     "text": [
      "1352\n"
     ]
    }
   ],
   "source": [
    "wordle.reset()\n",
    "wordle.setTarget(words.index(\"aback\"))\n",
    "print(wordle.makeGuess(words.index(\"fuzzy\")))"
   ]
  },
  {
   "cell_type": "code",
   "execution_count": 8,
   "metadata": {},
   "outputs": [],
   "source": [
    "def compute_next_guess(target, guesses):\n",
    "    wordle = WordleSolver()\n",
    "    wordle.setTarget(target)\n",
    "    for guess in guesses:\n",
    "        wordle.makeGuess(int(guess))\n",
    "    valids = np.array(wordle.remainingWordList())\n",
    "    results = np.zeros(len(words))\n",
    "    for i in valids:\n",
    "        if (len(valids) > 1 & target == i): \n",
    "            continue\n",
    "        wordle.reset()\n",
    "        for guess in guesses:\n",
    "            wordle.makeGuess(int(guess))\n",
    "        results[i] = wordle.makeGuess(int(i))\n",
    "    return results[0:-1]\n",
    "   "
   ]
  },
  {
   "cell_type": "code",
   "execution_count": 9,
   "metadata": {},
   "outputs": [
    {
     "name": "stdout",
     "output_type": "stream",
     "text": [
      "128\n",
      "51\n",
      "21\n",
      "10\n",
      "7\n",
      "6\n",
      "5\n",
      "4\n",
      "3\n",
      "2\n",
      "1\n",
      "1\n"
     ]
    }
   ],
   "source": [
    "wordle = WordleSolver()\n",
    "wordle.setTarget(words.index('wight'))\n",
    "guesses = \"chuck, hobby, aphid, fifth, eight, light, might, night, right, sight, tight, wight\".split(\", \")\n",
    "print(wordle.makeGuess(words.index(\"chuck\")))\n",
    "print(wordle.makeGuess(words.index(\"hobby\")))\n",
    "print(wordle.makeGuess(words.index(\"aphid\")))\n",
    "print(wordle.makeGuess(words.index(\"fifth\")))\n",
    "print(wordle.makeGuess(words.index(\"eight\")))\n",
    "print(wordle.makeGuess(words.index(\"light\")))\n",
    "print(wordle.makeGuess(words.index(\"might\")))\n",
    "print(wordle.makeGuess(words.index(\"night\")))\n",
    "print(wordle.makeGuess(words.index(\"right\")))\n",
    "print(wordle.makeGuess(words.index(\"sight\")))\n",
    "print(wordle.makeGuess(words.index(\"tight\")))\n",
    "print(wordle.makeGuess(words.index(\"wight\")))"
   ]
  },
  {
   "cell_type": "code",
   "execution_count": 10,
   "metadata": {},
   "outputs": [],
   "source": [
    "wordle = WordleSolver()\n",
    "#second2 = np.array(wordle.generateTargetTable(words.index(\"sight\"), 0, len(words)))"
   ]
  },
  {
   "cell_type": "code",
   "execution_count": null,
   "metadata": {},
   "outputs": [],
   "source": [
    "second3 = np.array(generateTargetTable(words.index(\"sight\"), 8))"
   ]
  },
  {
   "cell_type": "code",
   "execution_count": null,
   "metadata": {},
   "outputs": [],
   "source": [
    "second = np.load(\"sight.np.npy\")"
   ]
  },
  {
   "cell_type": "code",
   "execution_count": null,
   "metadata": {},
   "outputs": [
    {
     "name": "stdout",
     "output_type": "stream",
     "text": [
      "[[  0 107 124 ... 288  49 280]\n",
      " [107   0  47 ... 125  42  48]\n",
      " [124  47   0 ... 107  59  51]\n",
      " ...\n",
      " [288 125 107 ...   0  39 101]\n",
      " [ 49  42  59 ...  39   0  21]\n",
      " [280  48  51 ... 101  21   0]]\n",
      "[[925 107 124 ... 288  49 280]\n",
      " [107  30  12 ...  20  10  30]\n",
      " [124  12  12 ...   8  10  12]\n",
      " ...\n",
      " [  1   1   1 ...   1   1   1]\n",
      " [  1   1   1 ...   1   1   1]\n",
      " [  1   1   1 ...   1   1   1]]\n"
     ]
    }
   ],
   "source": [
    "print(second)\n",
    "#print(second2)\n",
    "print(second3)"
   ]
  },
  {
   "cell_type": "code",
   "execution_count": null,
   "metadata": {},
   "outputs": [
    {
     "name": "stdout",
     "output_type": "stream",
     "text": [
      "[280  55  49 ... 110  23 297]\n",
      "[280 108 111 ... 267  48 161]\n",
      "[280  48  51 ... 101  21   0]\n"
     ]
    }
   ],
   "source": [
    "for i in range(len(words)):\n",
    "    if (second[i,0] == 280):\n",
    "        print(second[i])\n"
   ]
  },
  {
   "cell_type": "code",
   "execution_count": null,
   "metadata": {},
   "outputs": [],
   "source": [
    "for i in range(2312):\n",
    "    if (second3[i,0] == 280):\n",
    "        print(second3[i])"
   ]
  },
  {
   "cell_type": "code",
   "execution_count": null,
   "metadata": {},
   "outputs": [
    {
     "data": {
      "text/plain": [
       "array([[  0, 107, 124, ..., 288,  49, 280],\n",
       "       [107,   0,  47, ..., 125,  42,  48],\n",
       "       [124,  47,   0, ..., 107,  59,  51],\n",
       "       ...,\n",
       "       [288, 125, 107, ...,   0,  39, 101],\n",
       "       [ 49,  42,  59, ...,  39,   0,  21],\n",
       "       [280,  48,  51, ..., 101,  21,   0]])"
      ]
     },
     "execution_count": 16,
     "metadata": {},
     "output_type": "execute_result"
    }
   ],
   "source": [
    "second"
   ]
  },
  {
   "cell_type": "code",
   "execution_count": null,
   "metadata": {},
   "outputs": [
    {
     "name": "stdout",
     "output_type": "stream",
     "text": [
      "target =  fuzzy\n",
      "guess =  mummy\n"
     ]
    }
   ],
   "source": [
    "guess1 = np.argmax(second) // np.shape(second)[0]\n",
    "guess2 = np.argmax(second) % np.shape(second)[1]\n",
    "print(\"target = \", words[guess1])\n",
    "print(\"guess = \", words[guess2])"
   ]
  },
  {
   "cell_type": "code",
   "execution_count": null,
   "metadata": {},
   "outputs": [
    {
     "ename": "NameError",
     "evalue": "name 'second2' is not defined",
     "output_type": "error",
     "traceback": [
      "\u001b[0;31m---------------------------------------------------------------------------\u001b[0m",
      "\u001b[0;31mNameError\u001b[0m                                 Traceback (most recent call last)",
      "Input \u001b[0;32mIn [18]\u001b[0m, in \u001b[0;36m<module>\u001b[0;34m\u001b[0m\n\u001b[0;32m----> 1\u001b[0m guess1 \u001b[38;5;241m=\u001b[39m np\u001b[38;5;241m.\u001b[39margmax(\u001b[43msecond2\u001b[49m) \u001b[38;5;241m/\u001b[39m\u001b[38;5;241m/\u001b[39m np\u001b[38;5;241m.\u001b[39mshape(second2)[\u001b[38;5;241m0\u001b[39m]\n\u001b[1;32m      2\u001b[0m guess2 \u001b[38;5;241m=\u001b[39m np\u001b[38;5;241m.\u001b[39margmax(second2) \u001b[38;5;241m%\u001b[39m np\u001b[38;5;241m.\u001b[39mshape(second2)[\u001b[38;5;241m1\u001b[39m]\n\u001b[1;32m      3\u001b[0m \u001b[38;5;28mprint\u001b[39m(\u001b[38;5;124m\"\u001b[39m\u001b[38;5;124mtarget = \u001b[39m\u001b[38;5;124m\"\u001b[39m, words[guess1])\n",
      "\u001b[0;31mNameError\u001b[0m: name 'second2' is not defined"
     ]
    }
   ],
   "source": [
    "guess1 = np.argmax(second2) // np.shape(second2)[0]\n",
    "guess2 = np.argmax(second2) % np.shape(second2)[1]\n",
    "print(\"target = \", words[guess1])\n",
    "print(\"guess = \", words[guess2])"
   ]
  },
  {
   "cell_type": "code",
   "execution_count": null,
   "metadata": {},
   "outputs": [
    {
     "name": "stdout",
     "output_type": "stream",
     "text": [
      "1352\n"
     ]
    }
   ],
   "source": [
    "print(second2[guess1, guess2])"
   ]
  }
 ],
 "metadata": {
  "interpreter": {
   "hash": "e7370f93d1d0cde622a1f8e1c04877d8463912d04d973331ad4851f04de6915a"
  },
  "kernelspec": {
   "display_name": "Python 3.10.1 64-bit",
   "language": "python",
   "name": "python3"
  },
  "language_info": {
   "codemirror_mode": {
    "name": "ipython",
    "version": 3
   },
   "file_extension": ".py",
   "mimetype": "text/x-python",
   "name": "python",
   "nbconvert_exporter": "python",
   "pygments_lexer": "ipython3",
   "version": "3.10.1"
  },
  "orig_nbformat": 4
 },
 "nbformat": 4,
 "nbformat_minor": 2
}
